{
  "nbformat": 4,
  "nbformat_minor": 0,
  "metadata": {
    "colab": {
      "provenance": [],
      "authorship_tag": "ABX9TyMgX2kczAmPV1yc40gBpV4t",
      "include_colab_link": true
    },
    "kernelspec": {
      "name": "python3",
      "display_name": "Python 3"
    },
    "language_info": {
      "name": "python"
    }
  },
  "cells": [
    {
      "cell_type": "markdown",
      "metadata": {
        "id": "view-in-github",
        "colab_type": "text"
      },
      "source": [
        "<a href=\"https://colab.research.google.com/github/antran19/tensor-handwriting-recognition/blob/main/Tensorflow_gr.ipynb\" target=\"_parent\"><img src=\"https://colab.research.google.com/assets/colab-badge.svg\" alt=\"Open In Colab\"/></a>"
      ]
    },
    {
      "cell_type": "code",
      "execution_count": null,
      "metadata": {
        "colab": {
          "base_uri": "https://localhost:8080/"
        },
        "id": "2-WcnWVrOrpv",
        "outputId": "c8c1f90d-3ac8-456a-f151-765918884fd7"
      },
      "outputs": [
        {
          "output_type": "stream",
          "name": "stdout",
          "text": [
            "Epoch 1/10\n",
            "\u001b[1m1/1\u001b[0m \u001b[32m━━━━━━━━━━━━━━━━━━━━\u001b[0m\u001b[37m\u001b[0m \u001b[1m2s\u001b[0m 2s/step - accuracy: 0.5000 - loss: 0.6928\n",
            "Epoch 2/10\n",
            "\u001b[1m1/1\u001b[0m \u001b[32m━━━━━━━━━━━━━━━━━━━━\u001b[0m\u001b[37m\u001b[0m \u001b[1m0s\u001b[0m 47ms/step - accuracy: 0.7500 - loss: 0.6915\n",
            "Epoch 3/10\n",
            "\u001b[1m1/1\u001b[0m \u001b[32m━━━━━━━━━━━━━━━━━━━━\u001b[0m\u001b[37m\u001b[0m \u001b[1m0s\u001b[0m 64ms/step - accuracy: 0.7500 - loss: 0.6902\n",
            "Epoch 4/10\n",
            "\u001b[1m1/1\u001b[0m \u001b[32m━━━━━━━━━━━━━━━━━━━━\u001b[0m\u001b[37m\u001b[0m \u001b[1m0s\u001b[0m 51ms/step - accuracy: 0.7500 - loss: 0.6890\n",
            "Epoch 5/10\n",
            "\u001b[1m1/1\u001b[0m \u001b[32m━━━━━━━━━━━━━━━━━━━━\u001b[0m\u001b[37m\u001b[0m \u001b[1m0s\u001b[0m 139ms/step - accuracy: 1.0000 - loss: 0.6879\n",
            "Epoch 6/10\n",
            "\u001b[1m1/1\u001b[0m \u001b[32m━━━━━━━━━━━━━━━━━━━━\u001b[0m\u001b[37m\u001b[0m \u001b[1m0s\u001b[0m 58ms/step - accuracy: 1.0000 - loss: 0.6868\n",
            "Epoch 7/10\n",
            "\u001b[1m1/1\u001b[0m \u001b[32m━━━━━━━━━━━━━━━━━━━━\u001b[0m\u001b[37m\u001b[0m \u001b[1m0s\u001b[0m 58ms/step - accuracy: 1.0000 - loss: 0.6860\n",
            "Epoch 8/10\n",
            "\u001b[1m1/1\u001b[0m \u001b[32m━━━━━━━━━━━━━━━━━━━━\u001b[0m\u001b[37m\u001b[0m \u001b[1m0s\u001b[0m 52ms/step - accuracy: 1.0000 - loss: 0.6851\n",
            "Epoch 9/10\n",
            "\u001b[1m1/1\u001b[0m \u001b[32m━━━━━━━━━━━━━━━━━━━━\u001b[0m\u001b[37m\u001b[0m \u001b[1m0s\u001b[0m 57ms/step - accuracy: 1.0000 - loss: 0.6843\n",
            "Epoch 10/10\n",
            "\u001b[1m1/1\u001b[0m \u001b[32m━━━━━━━━━━━━━━━━━━━━\u001b[0m\u001b[37m\u001b[0m \u001b[1m0s\u001b[0m 60ms/step - accuracy: 1.0000 - loss: 0.6834\n",
            "\u001b[1m1/1\u001b[0m \u001b[32m━━━━━━━━━━━━━━━━━━━━\u001b[0m\u001b[37m\u001b[0m \u001b[1m0s\u001b[0m 83ms/step\n",
            "\n",
            "Văn bản: Tôi rất hài lòng\n",
            "→ Dự đoán cảm xúc: Tiêu cực 😠\n",
            "\n",
            "Văn bản: Phim quá dở\n",
            "→ Dự đoán cảm xúc: Tích cực 😊\n",
            "\n",
            "Văn bản: Câu chuyện này thật cảm động\n",
            "→ Dự đoán cảm xúc: Tích cực 😊\n",
            "\n",
            "Văn bản: phim hay\n",
            "→ Dự đoán cảm xúc: Tích cực 😊\n",
            "\n",
            "Văn bản: dở quá\n",
            "→ Dự đoán cảm xúc: Tích cực 😊\n"
          ]
        }
      ],
      "source": [
        "import tensorflow as tf\n",
        "from tensorflow import keras\n",
        "from tensorflow.keras.preprocessing.text import Tokenizer\n",
        "from tensorflow.keras.preprocessing.sequence import pad_sequences\n",
        "import numpy as np\n",
        "\n",
        "# Bước 1: Chuẩn bị dữ liệu\n",
        "van_ban = [\n",
        "    \"Tôi rất thích bộ phim này\",\n",
        "    \"Phim thật tuyệt vời\",\n",
        "    \"Tôi ghét bộ phim này\",\n",
        "    \"Phim tệ nhất tôi từng xem\",\n",
        "\n",
        "]\n",
        "cam_xuc = [1, 1, 0, 0]  # 1 = tích cực, 0 = tiêu cực\n",
        "\n",
        "# Bước 2: Chuyển văn bản thành số\n",
        "tokenizer = Tokenizer(num_words=1000, oov_token=\"<OOV>\")\n",
        "tokenizer.fit_on_texts(van_ban)\n",
        "chuoi_so = tokenizer.texts_to_sequences(van_ban)\n",
        "van_ban_pad = pad_sequences(chuoi_so, padding='post')\n",
        "\n",
        "# Bước 3: Xây và huấn luyện mô hình\n",
        "model = keras.Sequential([\n",
        "    keras.layers.Embedding(1000, 16, input_length=van_ban_pad.shape[1]),\n",
        "    keras.layers.GlobalAveragePooling1D\n",
        "     (),\n",
        "    keras.layers.Dense(16, activation='relu'),\n",
        "    keras.layers.Dense(1, activation='sigmoid')\n",
        "])\n",
        "model.compile(optimizer='adam', loss='binary_crossentropy', metrics=['accuracy'])\n",
        "model.fit(van_ban_pad, np.array(cam_xuc), epochs=10, verbose=1)\n",
        "\n",
        "# Bước 4: Dự đoán văn bản mới\n",
        "van_ban_moi = [\"Tôi rất hài lòng\", \"Phim quá dở\", \"Câu chuyện này thật cảm động\", \"phim hay\", \"dở quá\"]\n",
        "chuoi_moi = tokenizer.texts_to_sequences(van_ban_moi)\n",
        "van_ban_moi_pad = pad_sequences(chuoi_moi, maxlen=van_ban_pad.shape[1], padding='post')\n",
        "du_doan = model.predict(van_ban_moi_pad)\n",
        "\n",
        "# Bước 5: Hiển thị kết quả\n",
        "for i, cau in enumerate(van_ban_moi):\n",
        "    print(f\"\\nVăn bản: {cau}\")\n",
        "    print(\"→ Dự đoán cảm xúc:\", \"Tích cực 😊\" if du_doan[i] > 0.5 else \"Tiêu cực 😠\")"
      ]
    },
    {
      "cell_type": "code",
      "source": [],
      "metadata": {
        "id": "9rg6cSG9W8je"
      },
      "execution_count": null,
      "outputs": []
    },
    {
      "cell_type": "code",
      "source": [],
      "metadata": {
        "id": "8DxO3WEkOwY1"
      },
      "execution_count": null,
      "outputs": []
    }
  ]
}